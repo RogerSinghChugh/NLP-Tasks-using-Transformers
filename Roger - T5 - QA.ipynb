{
 "metadata": {
  "kernelspec": {
   "display_name": "Python 3",
   "language": "python",
   "name": "python3"
  },
  "language_info": {
   "name": "python",
   "version": "3.10.10",
   "mimetype": "text/x-python",
   "codemirror_mode": {
    "name": "ipython",
    "version": 3
   },
   "pygments_lexer": "ipython3",
   "nbconvert_exporter": "python",
   "file_extension": ".py"
  }
 },
 "nbformat_minor": 4,
 "nbformat": 4,
 "cells": [
  {
   "cell_type": "code",
   "source": [
    "# !pip install -q datasets transformers \n",
    "# !pip install --upgrade accelerate\n",
    "%config Completer.use_jedi = False"
   ],
   "metadata": {
    "execution": {
     "iopub.status.busy": "2023-06-06T17:09:11.854736Z",
     "iopub.execute_input": "2023-06-06T17:09:11.855099Z",
     "iopub.status.idle": "2023-06-06T17:09:11.865430Z",
     "shell.execute_reply.started": "2023-06-06T17:09:11.855071Z",
     "shell.execute_reply": "2023-06-06T17:09:11.864501Z"
    },
    "trusted": true
   },
   "execution_count": 7,
   "outputs": []
  },
  {
   "cell_type": "code",
   "source": [
    "from transformers import AutoTokenizer, DataCollatorForSeq2Seq, T5ForConditionalGeneration, TrainingArguments, Trainer, BertForQuestionAnswering\n",
    "from datasets import load_dataset\n",
    "model_checkpoint = \"t5-small\""
   ],
   "metadata": {
    "ExecuteTime": {
     "end_time": "2023-06-06T06:45:37.959462200Z",
     "start_time": "2023-06-06T06:45:37.935555400Z"
    },
    "execution": {
     "iopub.status.busy": "2023-06-06T17:09:11.867322Z",
     "iopub.execute_input": "2023-06-06T17:09:11.867884Z",
     "iopub.status.idle": "2023-06-06T17:09:11.876657Z",
     "shell.execute_reply.started": "2023-06-06T17:09:11.867853Z",
     "shell.execute_reply": "2023-06-06T17:09:11.875732Z"
    },
    "trusted": true
   },
   "execution_count": 8,
   "outputs": []
  },
  {
   "cell_type": "code",
   "source": [
    "squad = load_dataset(\"squad\", split=\"train[:5000]\")"
   ],
   "metadata": {
    "collapsed": false,
    "ExecuteTime": {
     "end_time": "2023-06-06T06:45:38.823664300Z",
     "start_time": "2023-06-06T06:45:37.938563700Z"
    },
    "jupyter": {
     "outputs_hidden": false
    },
    "execution": {
     "iopub.status.busy": "2023-06-06T17:09:11.878152Z",
     "iopub.execute_input": "2023-06-06T17:09:11.878793Z",
     "iopub.status.idle": "2023-06-06T17:09:12.325246Z",
     "shell.execute_reply.started": "2023-06-06T17:09:11.878757Z",
     "shell.execute_reply": "2023-06-06T17:09:12.324371Z"
    },
    "trusted": true
   },
   "execution_count": 9,
   "outputs": []
  },
  {
   "cell_type": "code",
   "source": [
    "squad = squad.train_test_split(test_size=0.2)"
   ],
   "metadata": {
    "collapsed": false,
    "ExecuteTime": {
     "end_time": "2023-06-06T06:45:38.832599200Z",
     "start_time": "2023-06-06T06:45:38.826660900Z"
    },
    "jupyter": {
     "outputs_hidden": false
    },
    "execution": {
     "iopub.status.busy": "2023-06-06T17:09:12.327767Z",
     "iopub.execute_input": "2023-06-06T17:09:12.328130Z",
     "iopub.status.idle": "2023-06-06T17:09:12.345080Z",
     "shell.execute_reply.started": "2023-06-06T17:09:12.328096Z",
     "shell.execute_reply": "2023-06-06T17:09:12.344100Z"
    },
    "trusted": true
   },
   "execution_count": 10,
   "outputs": []
  },
  {
   "cell_type": "code",
   "source": [
    "tokenizer = AutoTokenizer.from_pretrained(model_checkpoint)"
   ],
   "metadata": {
    "collapsed": false,
    "ExecuteTime": {
     "end_time": "2023-06-06T06:45:38.987075600Z",
     "start_time": "2023-06-06T06:45:38.832599200Z"
    },
    "jupyter": {
     "outputs_hidden": false
    },
    "execution": {
     "iopub.status.busy": "2023-06-06T17:09:12.346486Z",
     "iopub.execute_input": "2023-06-06T17:09:12.346914Z",
     "iopub.status.idle": "2023-06-06T17:09:13.780796Z",
     "shell.execute_reply.started": "2023-06-06T17:09:12.346884Z",
     "shell.execute_reply": "2023-06-06T17:09:13.779889Z"
    },
    "trusted": true
   },
   "execution_count": 11,
   "outputs": [
    {
     "output_type": "display_data",
     "data": {
      "text/plain": "Downloading (…)okenizer_config.json:   0%|          | 0.00/2.32k [00:00<?, ?B/s]",
      "application/vnd.jupyter.widget-view+json": {
       "version_major": 2,
       "version_minor": 0,
       "model_id": "08fed1fa08ac4d66964f284dd8008f53"
      }
     },
     "metadata": {}
    },
    {
     "output_type": "display_data",
     "data": {
      "text/plain": "Downloading (…)ve/main/spiece.model:   0%|          | 0.00/792k [00:00<?, ?B/s]",
      "application/vnd.jupyter.widget-view+json": {
       "version_major": 2,
       "version_minor": 0,
       "model_id": "50a67c47ebb84439b78c4de8f7a16dbd"
      }
     },
     "metadata": {}
    },
    {
     "output_type": "display_data",
     "data": {
      "text/plain": "Downloading (…)/main/tokenizer.json:   0%|          | 0.00/1.39M [00:00<?, ?B/s]",
      "application/vnd.jupyter.widget-view+json": {
       "version_major": 2,
       "version_minor": 0,
       "model_id": "72ba909293de4f00ab7f6d290849908d"
      }
     },
     "metadata": {}
    }
   ]
  },
  {
   "cell_type": "code",
   "source": [
    "def preprocess_function(examples):\n",
    "    questions = [q.strip() for q in examples[\"question\"]]\n",
    "    inputs = tokenizer(\n",
    "        questions,\n",
    "        examples[\"context\"],\n",
    "        max_length=384,\n",
    "        truncation=True,\n",
    "        return_offsets_mapping=True,\n",
    "        padding=\"max_length\",\n",
    "    )\n",
    "\n",
    "    offset_mapping = inputs.pop(\"offset_mapping\")\n",
    "    answers = examples[\"answers\"]\n",
    "    start_positions = []\n",
    "    end_positions = []\n",
    "\n",
    "    for i, offset in enumerate(offset_mapping):\n",
    "        answer = answers[i]\n",
    "        start_char = answer[\"answer_start\"][0]\n",
    "        end_char = answer[\"answer_start\"][0] + len(answer[\"text\"][0])\n",
    "        sequence_ids = inputs.sequence_ids(i)\n",
    "\n",
    "        # Find the start and end of the context\n",
    "        idx = 0\n",
    "        while sequence_ids[idx] != 1:\n",
    "            idx += 1\n",
    "        context_start = idx\n",
    "        while sequence_ids[idx] == 1:\n",
    "            idx += 1\n",
    "        context_end = idx - 1\n",
    "\n",
    "        # If the answer is not fully inside the context, label it (0, 0)\n",
    "        if offset[context_start][0] > end_char or offset[context_end][1] < start_char:\n",
    "            start_positions.append(0)\n",
    "            end_positions.append(0)\n",
    "        else:\n",
    "            # Otherwise it's the start and end token positions\n",
    "            idx = context_start\n",
    "            while idx <= context_end and offset[idx][0] <= start_char:\n",
    "                idx += 1\n",
    "            start_positions.append(idx - 1)\n",
    "\n",
    "            idx = context_end\n",
    "            while idx >= context_start and offset[idx][1] >= end_char:\n",
    "                idx -= 1\n",
    "            end_positions.append(idx + 1)\n",
    "\n",
    "\n",
    "    inputs[\"start_positions\"] = start_positions\n",
    "    inputs[\"end_positions\"] = end_positions\n",
    "    return inputs"
   ],
   "metadata": {
    "collapsed": false,
    "ExecuteTime": {
     "end_time": "2023-06-06T06:45:39.020243300Z",
     "start_time": "2023-06-06T06:45:38.992556700Z"
    },
    "jupyter": {
     "outputs_hidden": false
    },
    "execution": {
     "iopub.status.busy": "2023-06-06T17:09:13.782325Z",
     "iopub.execute_input": "2023-06-06T17:09:13.782690Z",
     "iopub.status.idle": "2023-06-06T17:09:13.793984Z",
     "shell.execute_reply.started": "2023-06-06T17:09:13.782656Z",
     "shell.execute_reply": "2023-06-06T17:09:13.793096Z"
    },
    "trusted": true
   },
   "execution_count": 12,
   "outputs": []
  },
  {
   "cell_type": "code",
   "source": [
    "tokenized_squad = squad.map(preprocess_function, batched=True, remove_columns=squad[\"train\"].column_names)"
   ],
   "metadata": {
    "collapsed": false,
    "ExecuteTime": {
     "end_time": "2023-06-06T06:45:40.373223500Z",
     "start_time": "2023-06-06T06:45:38.995564100Z"
    },
    "jupyter": {
     "outputs_hidden": false
    },
    "execution": {
     "iopub.status.busy": "2023-06-06T17:09:13.795361Z",
     "iopub.execute_input": "2023-06-06T17:09:13.796002Z",
     "iopub.status.idle": "2023-06-06T17:09:17.774529Z",
     "shell.execute_reply.started": "2023-06-06T17:09:13.795970Z",
     "shell.execute_reply": "2023-06-06T17:09:17.773620Z"
    },
    "trusted": true
   },
   "execution_count": 13,
   "outputs": [
    {
     "output_type": "display_data",
     "data": {
      "text/plain": "  0%|          | 0/4 [00:00<?, ?ba/s]",
      "application/vnd.jupyter.widget-view+json": {
       "version_major": 2,
       "version_minor": 0,
       "model_id": "9509391606d046058eaca2467444144f"
      }
     },
     "metadata": {}
    },
    {
     "output_type": "display_data",
     "data": {
      "text/plain": "  0%|          | 0/1 [00:00<?, ?ba/s]",
      "application/vnd.jupyter.widget-view+json": {
       "version_major": 2,
       "version_minor": 0,
       "model_id": "829d1a53408b4095a6a8e73a640d86ce"
      }
     },
     "metadata": {}
    }
   ]
  },
  {
   "cell_type": "code",
   "source": [
    "import torch\n",
    "torch.cuda.empty_cache()\n",
    "\n",
    "training_args = TrainingArguments(\n",
    "    output_dir=\"qa_T5\",\n",
    "    evaluation_strategy=\"epoch\",\n",
    "    learning_rate=2e-5,\n",
    "    per_device_train_batch_size=16,\n",
    "    per_device_eval_batch_size=16,\n",
    "    num_train_epochs=3,\n",
    "    weight_decay=0.01,\n",
    "    report_to = 'none' \n",
    ")\n",
    "\n",
    "model = BertForQuestionAnswering.from_pretrained(model_checkpoint)\n",
    "label_pad_token_id = -100\n",
    "data_collator = DataCollatorForSeq2Seq(\n",
    "    tokenizer,\n",
    "    model=model,\n",
    "    label_pad_token_id=label_pad_token_id,\n",
    "    pad_to_multiple_of=8 if training_args.fp16 else None,\n",
    "    )\n",
    "\n",
    "trainer = Trainer(\n",
    "    model=model,\n",
    "    args=training_args,\n",
    "    train_dataset=tokenized_squad[\"train\"],\n",
    "    eval_dataset=tokenized_squad[\"test\"],\n",
    "    tokenizer=tokenizer,\n",
    "    data_collator=data_collator,\n",
    ")\n",
    "\n",
    "trainer.train()"
   ],
   "metadata": {
    "collapsed": false,
    "ExecuteTime": {
     "end_time": "2023-06-06T06:45:52.468231300Z",
     "start_time": "2023-06-06T06:45:40.377225500Z"
    },
    "jupyter": {
     "outputs_hidden": false
    },
    "execution": {
     "iopub.status.busy": "2023-06-06T17:11:29.556331Z",
     "iopub.execute_input": "2023-06-06T17:11:29.556695Z",
     "iopub.status.idle": "2023-06-06T17:20:07.000040Z",
     "shell.execute_reply.started": "2023-06-06T17:11:29.556661Z",
     "shell.execute_reply": "2023-06-06T17:20:06.999108Z"
    },
    "trusted": true
   },
   "execution_count": 16,
   "outputs": [
    {
     "name": "stderr",
     "text": "You are using a model of type t5 to instantiate a model of type bert. This is not supported for all configurations of models and can yield errors.\nSome weights of the model checkpoint at t5-small were not used when initializing BertForQuestionAnswering: ['decoder.final_layer_norm.weight', 'encoder.block.2.layer.0.SelfAttention.v.weight', 'decoder.block.1.layer.0.layer_norm.weight', 'decoder.block.0.layer.2.DenseReluDense.wi.weight', 'decoder.block.3.layer.0.SelfAttention.o.weight', 'decoder.block.4.layer.2.DenseReluDense.wo.weight', 'decoder.block.4.layer.1.EncDecAttention.k.weight', 'decoder.block.2.layer.2.DenseReluDense.wi.weight', 'encoder.block.2.layer.0.SelfAttention.o.weight', 'decoder.block.2.layer.0.SelfAttention.o.weight', 'decoder.block.1.layer.0.SelfAttention.k.weight', 'encoder.block.4.layer.0.SelfAttention.o.weight', 'decoder.block.2.layer.2.layer_norm.weight', 'decoder.block.0.layer.1.layer_norm.weight', 'decoder.block.4.layer.1.EncDecAttention.o.weight', 'encoder.block.3.layer.1.DenseReluDense.wo.weight', 'encoder.block.3.layer.0.SelfAttention.q.weight', 'decoder.block.0.layer.0.SelfAttention.q.weight', 'decoder.block.3.layer.0.SelfAttention.v.weight', 'decoder.block.2.layer.1.EncDecAttention.q.weight', 'encoder.block.0.layer.0.SelfAttention.relative_attention_bias.weight', 'decoder.block.0.layer.0.SelfAttention.relative_attention_bias.weight', 'decoder.block.1.layer.0.SelfAttention.o.weight', 'encoder.block.4.layer.1.layer_norm.weight', 'encoder.block.3.layer.0.layer_norm.weight', 'decoder.block.4.layer.2.layer_norm.weight', 'decoder.block.3.layer.0.SelfAttention.k.weight', 'decoder.block.0.layer.0.layer_norm.weight', 'encoder.block.2.layer.1.layer_norm.weight', 'encoder.block.5.layer.0.SelfAttention.o.weight', 'encoder.block.0.layer.0.layer_norm.weight', 'decoder.block.2.layer.1.EncDecAttention.k.weight', 'encoder.block.0.layer.1.DenseReluDense.wo.weight', 'encoder.block.3.layer.0.SelfAttention.o.weight', 'encoder.block.1.layer.0.SelfAttention.o.weight', 'decoder.block.0.layer.1.EncDecAttention.k.weight', 'encoder.block.4.layer.0.layer_norm.weight', 'decoder.block.2.layer.0.layer_norm.weight', 'encoder.block.5.layer.1.DenseReluDense.wi.weight', 'decoder.block.4.layer.1.EncDecAttention.q.weight', 'decoder.block.5.layer.2.layer_norm.weight', 'decoder.block.5.layer.1.EncDecAttention.o.weight', 'decoder.block.1.layer.0.SelfAttention.q.weight', 'encoder.block.1.layer.0.SelfAttention.q.weight', 'encoder.block.0.layer.0.SelfAttention.o.weight', 'decoder.block.2.layer.1.layer_norm.weight', 'encoder.block.3.layer.1.layer_norm.weight', 'decoder.block.5.layer.2.DenseReluDense.wi.weight', 'decoder.block.5.layer.0.SelfAttention.o.weight', 'decoder.block.5.layer.0.SelfAttention.k.weight', 'shared.weight', 'decoder.block.4.layer.0.layer_norm.weight', 'encoder.block.4.layer.0.SelfAttention.v.weight', 'decoder.block.5.layer.1.EncDecAttention.q.weight', 'decoder.block.4.layer.0.SelfAttention.k.weight', 'decoder.block.0.layer.1.EncDecAttention.v.weight', 'encoder.block.4.layer.0.SelfAttention.q.weight', 'decoder.block.4.layer.2.DenseReluDense.wi.weight', 'decoder.block.3.layer.2.DenseReluDense.wo.weight', 'encoder.block.4.layer.0.SelfAttention.k.weight', 'decoder.block.1.layer.1.EncDecAttention.o.weight', 'encoder.block.1.layer.0.SelfAttention.v.weight', 'decoder.block.0.layer.0.SelfAttention.o.weight', 'decoder.block.3.layer.1.EncDecAttention.o.weight', 'decoder.block.3.layer.0.SelfAttention.q.weight', 'decoder.block.0.layer.2.DenseReluDense.wo.weight', 'encoder.final_layer_norm.weight', 'encoder.block.2.layer.1.DenseReluDense.wi.weight', 'decoder.block.2.layer.2.DenseReluDense.wo.weight', 'encoder.block.2.layer.0.layer_norm.weight', 'encoder.block.0.layer.1.DenseReluDense.wi.weight', 'decoder.block.5.layer.0.layer_norm.weight', 'encoder.block.2.layer.0.SelfAttention.k.weight', 'decoder.block.1.layer.1.EncDecAttention.q.weight', 'encoder.block.5.layer.0.SelfAttention.v.weight', 'encoder.block.2.layer.0.SelfAttention.q.weight', 'encoder.block.0.layer.1.layer_norm.weight', 'decoder.block.5.layer.0.SelfAttention.q.weight', 'decoder.block.2.layer.0.SelfAttention.q.weight', 'encoder.block.1.layer.0.SelfAttention.k.weight', 'encoder.block.1.layer.1.layer_norm.weight', 'encoder.block.4.layer.1.DenseReluDense.wo.weight', 'decoder.block.5.layer.1.EncDecAttention.k.weight', 'decoder.block.2.layer.1.EncDecAttention.v.weight', 'decoder.block.5.layer.0.SelfAttention.v.weight', 'encoder.block.0.layer.0.SelfAttention.q.weight', 'encoder.block.1.layer.1.DenseReluDense.wi.weight', 'encoder.block.3.layer.0.SelfAttention.k.weight', 'decoder.block.0.layer.0.SelfAttention.k.weight', 'decoder.block.0.layer.0.SelfAttention.v.weight', 'encoder.block.5.layer.1.DenseReluDense.wo.weight', 'decoder.block.1.layer.2.DenseReluDense.wo.weight', 'decoder.block.3.layer.1.EncDecAttention.k.weight', 'encoder.block.1.layer.0.layer_norm.weight', 'decoder.block.0.layer.2.layer_norm.weight', 'encoder.block.5.layer.0.SelfAttention.q.weight', 'decoder.block.3.layer.2.layer_norm.weight', 'decoder.block.2.layer.1.EncDecAttention.o.weight', 'encoder.block.3.layer.1.DenseReluDense.wi.weight', 'decoder.block.5.layer.1.EncDecAttention.v.weight', 'decoder.block.0.layer.1.EncDecAttention.relative_attention_bias.weight', 'decoder.block.3.layer.1.layer_norm.weight', 'decoder.block.1.layer.1.EncDecAttention.k.weight', 'decoder.block.3.layer.1.EncDecAttention.v.weight', 'decoder.block.3.layer.2.DenseReluDense.wi.weight', 'decoder.block.2.layer.0.SelfAttention.v.weight', 'encoder.block.3.layer.0.SelfAttention.v.weight', 'decoder.block.3.layer.0.layer_norm.weight', 'encoder.block.0.layer.0.SelfAttention.v.weight', 'decoder.block.4.layer.0.SelfAttention.q.weight', 'encoder.block.5.layer.0.layer_norm.weight', 'decoder.block.5.layer.1.layer_norm.weight', 'decoder.block.1.layer.1.EncDecAttention.v.weight', 'encoder.block.5.layer.0.SelfAttention.k.weight', 'encoder.block.1.layer.1.DenseReluDense.wo.weight', 'decoder.block.4.layer.0.SelfAttention.o.weight', 'decoder.block.4.layer.1.EncDecAttention.v.weight', 'encoder.block.2.layer.1.DenseReluDense.wo.weight', 'decoder.block.0.layer.1.EncDecAttention.o.weight', 'encoder.block.0.layer.0.SelfAttention.k.weight', 'decoder.block.2.layer.0.SelfAttention.k.weight', 'encoder.block.4.layer.1.DenseReluDense.wi.weight', 'decoder.block.1.layer.1.layer_norm.weight', 'decoder.block.3.layer.1.EncDecAttention.q.weight', 'decoder.block.1.layer.0.SelfAttention.v.weight', 'decoder.block.0.layer.1.EncDecAttention.q.weight', 'decoder.block.4.layer.0.SelfAttention.v.weight', 'decoder.block.1.layer.2.DenseReluDense.wi.weight', 'decoder.block.1.layer.2.layer_norm.weight', 'decoder.block.4.layer.1.layer_norm.weight', 'decoder.block.5.layer.2.DenseReluDense.wo.weight', 'encoder.block.5.layer.1.layer_norm.weight']\n- This IS expected if you are initializing BertForQuestionAnswering from the checkpoint of a model trained on another task or with another architecture (e.g. initializing a BertForSequenceClassification model from a BertForPreTraining model).\n- This IS NOT expected if you are initializing BertForQuestionAnswering from the checkpoint of a model that you expect to be exactly identical (initializing a BertForSequenceClassification model from a BertForSequenceClassification model).\nSome weights of BertForQuestionAnswering were not initialized from the model checkpoint at t5-small and are newly initialized: ['encoder.layer.7.attention.output.LayerNorm.bias', 'encoder.layer.3.attention.self.value.bias', 'encoder.layer.3.output.dense.bias', 'encoder.layer.3.attention.self.key.bias', 'encoder.layer.3.attention.output.LayerNorm.bias', 'encoder.layer.4.output.dense.bias', 'encoder.layer.5.attention.output.dense.weight', 'encoder.layer.11.attention.output.LayerNorm.weight', 'encoder.layer.5.output.LayerNorm.bias', 'encoder.layer.9.attention.self.query.bias', 'encoder.layer.2.attention.self.key.weight', 'encoder.layer.4.attention.self.value.bias', 'encoder.layer.6.attention.output.dense.bias', 'encoder.layer.2.intermediate.dense.weight', 'encoder.layer.0.attention.output.LayerNorm.bias', 'encoder.layer.10.attention.self.query.weight', 'encoder.layer.11.attention.output.LayerNorm.bias', 'encoder.layer.11.output.dense.bias', 'encoder.layer.1.attention.self.key.bias', 'encoder.layer.0.attention.output.LayerNorm.weight', 'encoder.layer.1.attention.self.query.weight', 'encoder.layer.8.output.dense.weight', 'encoder.layer.9.output.dense.weight', 'encoder.layer.9.intermediate.dense.bias', 'encoder.layer.11.intermediate.dense.weight', 'encoder.layer.0.attention.self.query.weight', 'encoder.layer.4.attention.output.dense.weight', 'encoder.layer.7.output.dense.weight', 'encoder.layer.9.attention.self.query.weight', 'encoder.layer.10.output.dense.weight', 'encoder.layer.7.attention.self.key.weight', 'encoder.layer.2.attention.self.query.weight', 'encoder.layer.9.attention.self.value.bias', 'encoder.layer.4.attention.output.dense.bias', 'encoder.layer.3.intermediate.dense.weight', 'encoder.layer.4.output.dense.weight', 'encoder.layer.3.attention.self.query.weight', 'encoder.layer.8.attention.output.LayerNorm.weight', 'encoder.layer.7.intermediate.dense.bias', 'encoder.layer.1.output.LayerNorm.bias', 'encoder.layer.8.attention.self.key.bias', 'encoder.layer.3.output.dense.weight', 'encoder.layer.6.attention.self.key.bias', 'encoder.layer.7.attention.self.query.weight', 'encoder.layer.11.output.LayerNorm.bias', 'encoder.layer.7.output.dense.bias', 'encoder.layer.9.attention.output.LayerNorm.weight', 'encoder.layer.8.attention.self.query.weight', 'encoder.layer.7.attention.self.key.bias', 'encoder.layer.9.attention.self.key.weight', 'encoder.layer.6.output.dense.bias', 'encoder.layer.6.attention.output.LayerNorm.bias', 'encoder.layer.7.attention.output.dense.weight', 'encoder.layer.10.attention.self.value.weight', 'encoder.layer.5.attention.output.LayerNorm.weight', 'encoder.layer.10.output.dense.bias', 'encoder.layer.2.attention.output.dense.bias', 'encoder.layer.6.output.LayerNorm.weight', 'encoder.layer.6.intermediate.dense.bias', 'encoder.layer.11.attention.self.value.weight', 'encoder.layer.8.intermediate.dense.bias', 'encoder.layer.3.attention.output.dense.bias', 'encoder.layer.9.output.dense.bias', 'encoder.layer.9.intermediate.dense.weight', 'encoder.layer.10.attention.self.query.bias', 'encoder.layer.6.attention.output.dense.weight', 'encoder.layer.10.intermediate.dense.bias', 'encoder.layer.1.attention.self.value.weight', 'encoder.layer.3.attention.output.dense.weight', 'encoder.layer.4.output.LayerNorm.weight', 'encoder.layer.0.intermediate.dense.bias', 'encoder.layer.1.output.LayerNorm.weight', 'encoder.layer.3.attention.output.LayerNorm.weight', 'encoder.layer.5.attention.self.key.bias', 'encoder.layer.6.output.LayerNorm.bias', 'encoder.layer.4.attention.self.query.bias', 'encoder.layer.8.attention.self.value.weight', 'encoder.layer.11.attention.self.value.bias', 'encoder.layer.0.output.LayerNorm.weight', 'encoder.layer.6.attention.self.query.bias', 'encoder.layer.2.attention.self.value.bias', 'encoder.layer.8.intermediate.dense.weight', 'encoder.layer.5.attention.self.key.weight', 'encoder.layer.5.intermediate.dense.bias', 'qa_outputs.weight', 'encoder.layer.8.attention.self.key.weight', 'encoder.layer.7.output.LayerNorm.weight', 'encoder.layer.10.attention.output.LayerNorm.weight', 'encoder.layer.8.output.LayerNorm.weight', 'encoder.layer.1.attention.output.LayerNorm.weight', 'encoder.layer.1.attention.self.query.bias', 'encoder.layer.2.attention.self.key.bias', 'encoder.layer.2.attention.output.LayerNorm.weight', 'encoder.layer.10.attention.self.value.bias', 'encoder.layer.9.attention.output.LayerNorm.bias', 'encoder.layer.2.output.dense.bias', 'encoder.layer.11.attention.self.key.bias', 'encoder.layer.4.output.LayerNorm.bias', 'encoder.layer.5.attention.self.query.bias', 'encoder.layer.5.intermediate.dense.weight', 'encoder.layer.0.attention.self.value.weight', 'embeddings.token_type_embeddings.weight', 'encoder.layer.11.attention.self.query.weight', 'encoder.layer.4.attention.self.value.weight', 'encoder.layer.4.intermediate.dense.weight', 'encoder.layer.2.output.dense.weight', 'encoder.layer.6.attention.self.value.weight', 'encoder.layer.6.output.dense.weight', 'encoder.layer.3.attention.self.query.bias', 'encoder.layer.5.attention.output.dense.bias', 'encoder.layer.10.attention.self.key.bias', 'encoder.layer.7.intermediate.dense.weight', 'encoder.layer.7.attention.output.dense.bias', 'encoder.layer.1.attention.output.dense.weight', 'encoder.layer.2.attention.self.query.bias', 'encoder.layer.9.attention.self.key.bias', 'encoder.layer.5.output.LayerNorm.weight', 'encoder.layer.8.attention.output.dense.bias', 'encoder.layer.3.output.LayerNorm.weight', 'encoder.layer.0.attention.self.key.weight', 'encoder.layer.0.attention.output.dense.weight', 'encoder.layer.11.attention.output.dense.weight', 'encoder.layer.0.attention.self.query.bias', 'encoder.layer.7.attention.output.LayerNorm.weight', 'encoder.layer.0.output.LayerNorm.bias', 'encoder.layer.5.attention.self.query.weight', 'encoder.layer.3.attention.self.value.weight', 'encoder.layer.5.output.dense.bias', 'encoder.layer.8.attention.self.value.bias', 'encoder.layer.10.attention.output.LayerNorm.bias', 'embeddings.LayerNorm.weight', 'encoder.layer.7.output.LayerNorm.bias', 'embeddings.word_embeddings.weight', 'encoder.layer.1.attention.output.LayerNorm.bias', 'encoder.layer.11.output.dense.weight', 'encoder.layer.0.intermediate.dense.weight', 'encoder.layer.4.attention.self.query.weight', 'encoder.layer.8.attention.output.LayerNorm.bias', 'encoder.layer.6.attention.output.LayerNorm.weight', 'encoder.layer.8.output.LayerNorm.bias', 'encoder.layer.11.intermediate.dense.bias', 'encoder.layer.10.output.LayerNorm.weight', 'encoder.layer.5.attention.output.LayerNorm.bias', 'encoder.layer.8.attention.output.dense.weight', 'encoder.layer.2.attention.output.dense.weight', 'embeddings.position_embeddings.weight', 'encoder.layer.7.attention.self.value.bias', 'encoder.layer.1.attention.self.value.bias', 'encoder.layer.10.attention.output.dense.weight', 'encoder.layer.11.output.LayerNorm.weight', 'encoder.layer.1.attention.output.dense.bias', 'encoder.layer.1.attention.self.key.weight', 'encoder.layer.5.attention.self.value.bias', 'encoder.layer.4.intermediate.dense.bias', 'encoder.layer.0.attention.self.key.bias', 'encoder.layer.5.output.dense.weight', 'encoder.layer.9.attention.output.dense.weight', 'encoder.layer.11.attention.self.key.weight', 'encoder.layer.8.attention.self.query.bias', 'encoder.layer.5.attention.self.value.weight', 'encoder.layer.11.attention.output.dense.bias', 'qa_outputs.bias', 'encoder.layer.6.intermediate.dense.weight', 'encoder.layer.4.attention.self.key.weight', 'encoder.layer.1.output.dense.weight', 'encoder.layer.8.output.dense.bias', 'encoder.layer.7.attention.self.query.bias', 'encoder.layer.6.attention.self.value.bias', 'encoder.layer.10.output.LayerNorm.bias', 'encoder.layer.1.intermediate.dense.weight', 'encoder.layer.11.attention.self.query.bias', 'encoder.layer.9.attention.output.dense.bias', 'encoder.layer.2.output.LayerNorm.bias', 'encoder.layer.4.attention.output.LayerNorm.weight', 'encoder.layer.7.attention.self.value.weight', 'encoder.layer.0.output.dense.bias', 'encoder.layer.1.output.dense.bias', 'encoder.layer.2.intermediate.dense.bias', 'encoder.layer.4.attention.output.LayerNorm.bias', 'encoder.layer.9.attention.self.value.weight', 'encoder.layer.10.attention.self.key.weight', 'encoder.layer.2.attention.output.LayerNorm.bias', 'encoder.layer.0.attention.output.dense.bias', 'encoder.layer.4.attention.self.key.bias', 'encoder.layer.3.intermediate.dense.bias', 'encoder.layer.6.attention.self.query.weight', 'encoder.layer.3.attention.self.key.weight', 'encoder.layer.3.output.LayerNorm.bias', 'encoder.layer.9.output.LayerNorm.weight', 'encoder.layer.9.output.LayerNorm.bias', 'encoder.layer.10.attention.output.dense.bias', 'encoder.layer.0.attention.self.value.bias', 'encoder.layer.2.attention.self.value.weight', 'embeddings.LayerNorm.bias', 'encoder.layer.1.intermediate.dense.bias', 'encoder.layer.10.intermediate.dense.weight', 'encoder.layer.2.output.LayerNorm.weight', 'encoder.layer.0.output.dense.weight', 'encoder.layer.6.attention.self.key.weight']\nYou should probably TRAIN this model on a down-stream task to be able to use it for predictions and inference.\n/opt/conda/lib/python3.10/site-packages/transformers/optimization.py:407: FutureWarning: This implementation of AdamW is deprecated and will be removed in a future version. Use the PyTorch implementation torch.optim.AdamW instead, or set `no_deprecation_warning=True` to disable this warning\n  warnings.warn(\nYou're using a T5TokenizerFast tokenizer. Please note that with a fast tokenizer, using the `__call__` method is faster than using a method to encode the text followed by a call to the `pad` method to get a padded encoding.\n",
     "output_type": "stream"
    },
    {
     "output_type": "display_data",
     "data": {
      "text/plain": "<IPython.core.display.HTML object>",
      "text/html": "\n    <div>\n      \n      <progress value='750' max='750' style='width:300px; height:20px; vertical-align: middle;'></progress>\n      [750/750 08:33, Epoch 3/3]\n    </div>\n    <table border=\"1\" class=\"dataframe\">\n  <thead>\n <tr style=\"text-align: left;\">\n      <th>Epoch</th>\n      <th>Training Loss</th>\n      <th>Validation Loss</th>\n    </tr>\n  </thead>\n  <tbody>\n    <tr>\n      <td>1</td>\n      <td>No log</td>\n      <td>4.632058</td>\n    </tr>\n    <tr>\n      <td>2</td>\n      <td>4.631100</td>\n      <td>4.583677</td>\n    </tr>\n    <tr>\n      <td>3</td>\n      <td>4.631100</td>\n      <td>4.669224</td>\n    </tr>\n  </tbody>\n</table><p>"
     },
     "metadata": {}
    },
    {
     "execution_count": 16,
     "output_type": "execute_result",
     "data": {
      "text/plain": "TrainOutput(global_step=750, training_loss=4.423497721354167, metrics={'train_runtime': 515.4332, 'train_samples_per_second': 23.281, 'train_steps_per_second': 1.455, 'total_flos': 2351670810624000.0, 'train_loss': 4.423497721354167, 'epoch': 3.0})"
     },
     "metadata": {}
    }
   ]
  }
 ]
}
